{
 "cells": [
  {
   "cell_type": "markdown",
   "id": "mysterious-avatar",
   "metadata": {},
   "source": [
    "Using * and ** to pass arguments to a function  \n",
    "Using * and ** to capture arguments passed into a function  \n",
    "Using * to accept keyword-only arguments  \n",
    "Using * to capture items during tuple unpacking  \n",
    "Using * to unpack iterables into a list/tuple  \n",
    "Using ** to unpack dictionaries into other dictionaries  "
   ]
  },
  {
   "cell_type": "markdown",
   "id": "lovely-tennessee",
   "metadata": {},
   "source": [
    "https://treyhunner.com/2018/10/asterisks-in-python-what-they-are-and-how-to-use-them/"
   ]
  },
  {
   "cell_type": "markdown",
   "id": "incorporated-soldier",
   "metadata": {},
   "source": [
    "### Asterisks for unpacking into function call"
   ]
  },
  {
   "cell_type": "markdown",
   "id": "practical-contamination",
   "metadata": {},
   "source": [
    "When calling a function, the __* operator__ can be used to unpack an iterable into the arguments in the function call:"
   ]
  },
  {
   "cell_type": "code",
   "execution_count": 4,
   "id": "armed-oxford",
   "metadata": {},
   "outputs": [
    {
     "name": "stdout",
     "output_type": "stream",
     "text": [
      "lemon pear watermelon tomato\n"
     ]
    }
   ],
   "source": [
    "fruits = ['lemon', 'pear', 'watermelon', 'tomato']\n",
    "print(fruits[0], fruits[1], fruits[2], fruits[3])"
   ]
  },
  {
   "cell_type": "code",
   "execution_count": 5,
   "id": "numerous-resident",
   "metadata": {},
   "outputs": [
    {
     "name": "stdout",
     "output_type": "stream",
     "text": [
      "lemon pear watermelon tomato\n"
     ]
    }
   ],
   "source": [
    "print(*fruits)"
   ]
  },
  {
   "cell_type": "code",
   "execution_count": 17,
   "id": "resident-insight",
   "metadata": {},
   "outputs": [
    {
     "name": "stdout",
     "output_type": "stream",
     "text": [
      "[1, 4, 7]\n",
      "[2, 5, 8]\n",
      "[3, 6, 9]\n"
     ]
    }
   ],
   "source": [
    "def transpose_list(list_of_lists):\n",
    "    return [\n",
    "        list(row) for row in zip(*list_of_lists)\n",
    "    ]\n",
    "\n",
    "transpose_list([[1, 4, 7], [2, 5, 8], [3, 6, 9]])\n",
    "\n",
    "for row in [[1, 4, 7], [2, 5, 8], [3, 6, 9]]:\n",
    "    print(row)"
   ]
  },
  {
   "cell_type": "markdown",
   "id": "baking-analyst",
   "metadata": {},
   "source": [
    "The **zip()** function takes iterables (can be zero or more), aggregates them in a tuple, and return it."
   ]
  },
  {
   "cell_type": "markdown",
   "id": "laughing-shareware",
   "metadata": {},
   "source": [
    "Sidne Note  ---> List vs Tuple: "
   ]
  },
  {
   "cell_type": "markdown",
   "id": "occupied-appearance",
   "metadata": {},
   "source": [
    "<div style=\"width:image width px; float: left;\">\n",
    "    <img src=\"./img/list_vs_tuple.png\".png\" \n",
    "         width=420 \n",
    "         style=\"padding-bottom:0.5em;\"/>\n",
    "</div>"
   ]
  },
  {
   "cell_type": "markdown",
   "id": "institutional-payday",
   "metadata": {},
   "source": [
    "Additionaly consider this example:"
   ]
  },
  {
   "cell_type": "code",
   "execution_count": 20,
   "id": "orange-gabriel",
   "metadata": {},
   "outputs": [
    {
     "name": "stdout",
     "output_type": "stream",
     "text": [
      "[1, 4, 7]\n",
      "[2, 5, 8]\n",
      "[3, 6, 9]\n",
      "\n",
      "\n",
      "([1, 4, 7],)\n",
      "([2, 5, 8],)\n",
      "([3, 6, 9],)\n",
      "\n",
      "\n",
      "(1, 2, 3)\n",
      "(4, 5, 6)\n",
      "(7, 8, 9)\n"
     ]
    }
   ],
   "source": [
    "list_of_lists = [[1, 4, 7], [2, 5, 8], [3, 6, 9]]\n",
    "\n",
    "for row in list_of_lists:\n",
    "    print(row)\n",
    "    \n",
    "#!!this will thow an error because * can be used only inside function call\n",
    "# for row in *list_of_lists:\n",
    "#     print(row)\n",
    "    \n",
    "print(\"\\n\")\n",
    "for row in zip(list_of_lists): #here for() iterated over each sublist\n",
    "    print(row)\n",
    "\n",
    "print(\"\\n\")\n",
    "for row in zip(*list_of_lists): #here for() iterated over each element of each sublist\n",
    "    print(row)"
   ]
  },
  {
   "cell_type": "markdown",
   "id": "ranging-escape",
   "metadata": {},
   "source": [
    "The __** operator__ does something similar, but with __keyword arguments__. The ** operator allows us to take a dictionary of key-value pairs and unpack it into keyword arguments in a function call."
   ]
  },
  {
   "cell_type": "code",
   "execution_count": 22,
   "id": "sudden-lincoln",
   "metadata": {},
   "outputs": [
    {
     "data": {
      "text/plain": [
       "'2020-01-01.txt'"
      ]
     },
     "execution_count": 22,
     "metadata": {},
     "output_type": "execute_result"
    }
   ],
   "source": [
    "date_info = {'year': \"2020\", 'month': \"01\", 'day': \"01\"}\n",
    "filename = \"{year}-{month}-{day}.txt\".format(**date_info)\n",
    "filename"
   ]
  },
  {
   "cell_type": "code",
   "execution_count": null,
   "id": "statistical-roads",
   "metadata": {},
   "outputs": [],
   "source": []
  }
 ],
 "metadata": {
  "kernelspec": {
   "display_name": "Python 3",
   "language": "python",
   "name": "python3"
  },
  "language_info": {
   "codemirror_mode": {
    "name": "ipython",
    "version": 3
   },
   "file_extension": ".py",
   "mimetype": "text/x-python",
   "name": "python",
   "nbconvert_exporter": "python",
   "pygments_lexer": "ipython3",
   "version": "3.9.2"
  },
  "toc": {
   "base_numbering": 1,
   "nav_menu": {},
   "number_sections": true,
   "sideBar": true,
   "skip_h1_title": false,
   "title_cell": "Table of Contents",
   "title_sidebar": "Contents",
   "toc_cell": false,
   "toc_position": {},
   "toc_section_display": true,
   "toc_window_display": false
  },
  "varInspector": {
   "cols": {
    "lenName": 16,
    "lenType": 16,
    "lenVar": 40
   },
   "kernels_config": {
    "python": {
     "delete_cmd_postfix": "",
     "delete_cmd_prefix": "del ",
     "library": "var_list.py",
     "varRefreshCmd": "print(var_dic_list())"
    },
    "r": {
     "delete_cmd_postfix": ") ",
     "delete_cmd_prefix": "rm(",
     "library": "var_list.r",
     "varRefreshCmd": "cat(var_dic_list()) "
    }
   },
   "types_to_exclude": [
    "module",
    "function",
    "builtin_function_or_method",
    "instance",
    "_Feature"
   ],
   "window_display": false
  }
 },
 "nbformat": 4,
 "nbformat_minor": 5
}
